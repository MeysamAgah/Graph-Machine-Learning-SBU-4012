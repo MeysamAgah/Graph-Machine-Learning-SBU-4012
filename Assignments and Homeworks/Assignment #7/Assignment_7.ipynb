{
  "cells": [
    {
      "cell_type": "markdown",
      "source": [
        "# Part 1"
      ],
      "metadata": {
        "id": "cWXY7whUTdPI"
      }
    },
    {
      "cell_type": "markdown",
      "source": [
        "## Preprocessing"
      ],
      "metadata": {
        "id": "vtZf7vJbDZI1"
      }
    },
    {
      "cell_type": "code",
      "source": [
        "!pip3 install dgl"
      ],
      "metadata": {
        "colab": {
          "base_uri": "https://localhost:8080/"
        },
        "id": "oxAXA4yllxez",
        "outputId": "8ab482a8-a1d1-479d-e728-d898e9cfc29e"
      },
      "execution_count": 1,
      "outputs": [
        {
          "output_type": "stream",
          "name": "stdout",
          "text": [
            "Collecting dgl\n",
            "  Downloading dgl-1.1.1-cp310-cp310-manylinux1_x86_64.whl (6.3 MB)\n",
            "\u001b[2K     \u001b[90m━━━━━━━━━━━━━━━━━━━━━━━━━━━━━━━━━━━━━━━━\u001b[0m \u001b[32m6.3/6.3 MB\u001b[0m \u001b[31m28.0 MB/s\u001b[0m eta \u001b[36m0:00:00\u001b[0m\n",
            "\u001b[?25hRequirement already satisfied: numpy>=1.14.0 in /usr/local/lib/python3.10/dist-packages (from dgl) (1.22.4)\n",
            "Requirement already satisfied: scipy>=1.1.0 in /usr/local/lib/python3.10/dist-packages (from dgl) (1.10.1)\n",
            "Requirement already satisfied: networkx>=2.1 in /usr/local/lib/python3.10/dist-packages (from dgl) (3.1)\n",
            "Requirement already satisfied: requests>=2.19.0 in /usr/local/lib/python3.10/dist-packages (from dgl) (2.27.1)\n",
            "Requirement already satisfied: tqdm in /usr/local/lib/python3.10/dist-packages (from dgl) (4.65.0)\n",
            "Requirement already satisfied: psutil>=5.8.0 in /usr/local/lib/python3.10/dist-packages (from dgl) (5.9.5)\n",
            "Requirement already satisfied: urllib3<1.27,>=1.21.1 in /usr/local/lib/python3.10/dist-packages (from requests>=2.19.0->dgl) (1.26.16)\n",
            "Requirement already satisfied: certifi>=2017.4.17 in /usr/local/lib/python3.10/dist-packages (from requests>=2.19.0->dgl) (2023.5.7)\n",
            "Requirement already satisfied: charset-normalizer~=2.0.0 in /usr/local/lib/python3.10/dist-packages (from requests>=2.19.0->dgl) (2.0.12)\n",
            "Requirement already satisfied: idna<4,>=2.5 in /usr/local/lib/python3.10/dist-packages (from requests>=2.19.0->dgl) (3.4)\n",
            "Installing collected packages: dgl\n",
            "Successfully installed dgl-1.1.1\n"
          ]
        }
      ]
    },
    {
      "cell_type": "code",
      "source": [
        "!pip install dglgo"
      ],
      "metadata": {
        "colab": {
          "base_uri": "https://localhost:8080/"
        },
        "id": "Ix3pG3Mtx7M8",
        "outputId": "65e6b018-ffe2-4038-df38-9185b1805f12"
      },
      "execution_count": 2,
      "outputs": [
        {
          "output_type": "stream",
          "name": "stdout",
          "text": [
            "Collecting dglgo\n",
            "  Downloading dglgo-0.0.2-py3-none-any.whl (63 kB)\n",
            "\u001b[?25l     \u001b[90m━━━━━━━━━━━━━━━━━━━━━━━━━━━━━━━━━━━━━━━━\u001b[0m \u001b[32m0.0/63.5 kB\u001b[0m \u001b[31m?\u001b[0m eta \u001b[36m-:--:--\u001b[0m\r\u001b[2K     \u001b[91m━━━━━━━━━━━━━━━━━━━━━━━━━━━━━━━━━━━━━━\u001b[0m\u001b[91m╸\u001b[0m\u001b[90m━\u001b[0m \u001b[32m61.4/63.5 kB\u001b[0m \u001b[31m5.6 MB/s\u001b[0m eta \u001b[36m0:00:01\u001b[0m\r\u001b[2K     \u001b[90m━━━━━━━━━━━━━━━━━━━━━━━━━━━━━━━━━━━━━━━\u001b[0m \u001b[32m63.5/63.5 kB\u001b[0m \u001b[31m958.2 kB/s\u001b[0m eta \u001b[36m0:00:00\u001b[0m\n",
            "\u001b[?25hRequirement already satisfied: typer>=0.4.0 in /usr/local/lib/python3.10/dist-packages (from dglgo) (0.7.0)\n",
            "Collecting isort>=5.10.1 (from dglgo)\n",
            "  Downloading isort-5.12.0-py3-none-any.whl (91 kB)\n",
            "\u001b[2K     \u001b[90m━━━━━━━━━━━━━━━━━━━━━━━━━━━━━━━━━━━━━━━━\u001b[0m \u001b[32m91.2/91.2 kB\u001b[0m \u001b[31m5.2 MB/s\u001b[0m eta \u001b[36m0:00:00\u001b[0m\n",
            "\u001b[?25hCollecting autopep8>=1.6.0 (from dglgo)\n",
            "  Downloading autopep8-2.0.2-py2.py3-none-any.whl (45 kB)\n",
            "\u001b[2K     \u001b[90m━━━━━━━━━━━━━━━━━━━━━━━━━━━━━━━━━━━━━━━━\u001b[0m \u001b[32m45.2/45.2 kB\u001b[0m \u001b[31m4.0 MB/s\u001b[0m eta \u001b[36m0:00:00\u001b[0m\n",
            "\u001b[?25hCollecting numpydoc>=1.1.0 (from dglgo)\n",
            "  Downloading numpydoc-1.5.0-py3-none-any.whl (52 kB)\n",
            "\u001b[2K     \u001b[90m━━━━━━━━━━━━━━━━━━━━━━━━━━━━━━━━━━━━━━━━\u001b[0m \u001b[32m52.4/52.4 kB\u001b[0m \u001b[31m5.8 MB/s\u001b[0m eta \u001b[36m0:00:00\u001b[0m\n",
            "\u001b[?25hRequirement already satisfied: pydantic>=1.9.0 in /usr/local/lib/python3.10/dist-packages (from dglgo) (1.10.9)\n",
            "Collecting ruamel.yaml>=0.17.20 (from dglgo)\n",
            "  Downloading ruamel.yaml-0.17.32-py3-none-any.whl (112 kB)\n",
            "\u001b[2K     \u001b[90m━━━━━━━━━━━━━━━━━━━━━━━━━━━━━━━━━━━━━━\u001b[0m \u001b[32m112.2/112.2 kB\u001b[0m \u001b[31m12.7 MB/s\u001b[0m eta \u001b[36m0:00:00\u001b[0m\n",
            "\u001b[?25hRequirement already satisfied: PyYAML>=5.1 in /usr/local/lib/python3.10/dist-packages (from dglgo) (6.0)\n",
            "Collecting ogb>=1.3.3 (from dglgo)\n",
            "  Downloading ogb-1.3.6-py3-none-any.whl (78 kB)\n",
            "\u001b[2K     \u001b[90m━━━━━━━━━━━━━━━━━━━━━━━━━━━━━━━━━━━━━━━━\u001b[0m \u001b[32m78.8/78.8 kB\u001b[0m \u001b[31m8.8 MB/s\u001b[0m eta \u001b[36m0:00:00\u001b[0m\n",
            "\u001b[?25hCollecting rdkit-pypi (from dglgo)\n",
            "  Downloading rdkit_pypi-2022.9.5-cp310-cp310-manylinux_2_17_x86_64.manylinux2014_x86_64.whl (29.4 MB)\n",
            "\u001b[2K     \u001b[90m━━━━━━━━━━━━━━━━━━━━━━━━━━━━━━━━━━━━━━━━\u001b[0m \u001b[32m29.4/29.4 MB\u001b[0m \u001b[31m27.3 MB/s\u001b[0m eta \u001b[36m0:00:00\u001b[0m\n",
            "\u001b[?25hRequirement already satisfied: scikit-learn>=0.20.0 in /usr/local/lib/python3.10/dist-packages (from dglgo) (1.2.2)\n",
            "Collecting pycodestyle>=2.10.0 (from autopep8>=1.6.0->dglgo)\n",
            "  Downloading pycodestyle-2.10.0-py2.py3-none-any.whl (41 kB)\n",
            "\u001b[2K     \u001b[90m━━━━━━━━━━━━━━━━━━━━━━━━━━━━━━━━━━━━━━━━\u001b[0m \u001b[32m41.3/41.3 kB\u001b[0m \u001b[31m3.9 MB/s\u001b[0m eta \u001b[36m0:00:00\u001b[0m\n",
            "\u001b[?25hRequirement already satisfied: tomli in /usr/local/lib/python3.10/dist-packages (from autopep8>=1.6.0->dglgo) (2.0.1)\n",
            "Collecting sphinx>=4.2 (from numpydoc>=1.1.0->dglgo)\n",
            "  Downloading sphinx-7.0.1-py3-none-any.whl (3.0 MB)\n",
            "\u001b[2K     \u001b[90m━━━━━━━━━━━━━━━━━━━━━━━━━━━━━━━━━━━━━━━━\u001b[0m \u001b[32m3.0/3.0 MB\u001b[0m \u001b[31m51.2 MB/s\u001b[0m eta \u001b[36m0:00:00\u001b[0m\n",
            "\u001b[?25hRequirement already satisfied: Jinja2>=2.10 in /usr/local/lib/python3.10/dist-packages (from numpydoc>=1.1.0->dglgo) (3.1.2)\n",
            "Requirement already satisfied: torch>=1.6.0 in /usr/local/lib/python3.10/dist-packages (from ogb>=1.3.3->dglgo) (2.0.1+cu118)\n",
            "Requirement already satisfied: numpy>=1.16.0 in /usr/local/lib/python3.10/dist-packages (from ogb>=1.3.3->dglgo) (1.22.4)\n",
            "Requirement already satisfied: tqdm>=4.29.0 in /usr/local/lib/python3.10/dist-packages (from ogb>=1.3.3->dglgo) (4.65.0)\n",
            "Requirement already satisfied: pandas>=0.24.0 in /usr/local/lib/python3.10/dist-packages (from ogb>=1.3.3->dglgo) (1.5.3)\n",
            "Requirement already satisfied: six>=1.12.0 in /usr/local/lib/python3.10/dist-packages (from ogb>=1.3.3->dglgo) (1.16.0)\n",
            "Requirement already satisfied: urllib3>=1.24.0 in /usr/local/lib/python3.10/dist-packages (from ogb>=1.3.3->dglgo) (1.26.16)\n",
            "Collecting outdated>=0.2.0 (from ogb>=1.3.3->dglgo)\n",
            "  Downloading outdated-0.2.2-py2.py3-none-any.whl (7.5 kB)\n",
            "Requirement already satisfied: typing-extensions>=4.2.0 in /usr/local/lib/python3.10/dist-packages (from pydantic>=1.9.0->dglgo) (4.6.3)\n",
            "Collecting ruamel.yaml.clib>=0.2.7 (from ruamel.yaml>=0.17.20->dglgo)\n",
            "  Downloading ruamel.yaml.clib-0.2.7-cp310-cp310-manylinux_2_17_x86_64.manylinux2014_x86_64.manylinux_2_24_x86_64.whl (485 kB)\n",
            "\u001b[2K     \u001b[90m━━━━━━━━━━━━━━━━━━━━━━━━━━━━━━━━━━━━━━\u001b[0m \u001b[32m485.6/485.6 kB\u001b[0m \u001b[31m32.9 MB/s\u001b[0m eta \u001b[36m0:00:00\u001b[0m\n",
            "\u001b[?25hRequirement already satisfied: scipy>=1.3.2 in /usr/local/lib/python3.10/dist-packages (from scikit-learn>=0.20.0->dglgo) (1.10.1)\n",
            "Requirement already satisfied: joblib>=1.1.1 in /usr/local/lib/python3.10/dist-packages (from scikit-learn>=0.20.0->dglgo) (1.2.0)\n",
            "Requirement already satisfied: threadpoolctl>=2.0.0 in /usr/local/lib/python3.10/dist-packages (from scikit-learn>=0.20.0->dglgo) (3.1.0)\n",
            "Requirement already satisfied: click<9.0.0,>=7.1.1 in /usr/local/lib/python3.10/dist-packages (from typer>=0.4.0->dglgo) (8.1.3)\n",
            "Requirement already satisfied: Pillow in /usr/local/lib/python3.10/dist-packages (from rdkit-pypi->dglgo) (8.4.0)\n",
            "Requirement already satisfied: MarkupSafe>=2.0 in /usr/local/lib/python3.10/dist-packages (from Jinja2>=2.10->numpydoc>=1.1.0->dglgo) (2.1.3)\n",
            "Requirement already satisfied: setuptools>=44 in /usr/local/lib/python3.10/dist-packages (from outdated>=0.2.0->ogb>=1.3.3->dglgo) (67.7.2)\n",
            "Collecting littleutils (from outdated>=0.2.0->ogb>=1.3.3->dglgo)\n",
            "  Downloading littleutils-0.2.2.tar.gz (6.6 kB)\n",
            "  Preparing metadata (setup.py) ... \u001b[?25l\u001b[?25hdone\n",
            "Requirement already satisfied: requests in /usr/local/lib/python3.10/dist-packages (from outdated>=0.2.0->ogb>=1.3.3->dglgo) (2.27.1)\n",
            "Requirement already satisfied: python-dateutil>=2.8.1 in /usr/local/lib/python3.10/dist-packages (from pandas>=0.24.0->ogb>=1.3.3->dglgo) (2.8.2)\n",
            "Requirement already satisfied: pytz>=2020.1 in /usr/local/lib/python3.10/dist-packages (from pandas>=0.24.0->ogb>=1.3.3->dglgo) (2022.7.1)\n",
            "Requirement already satisfied: sphinxcontrib-applehelp in /usr/local/lib/python3.10/dist-packages (from sphinx>=4.2->numpydoc>=1.1.0->dglgo) (1.0.4)\n",
            "Requirement already satisfied: sphinxcontrib-devhelp in /usr/local/lib/python3.10/dist-packages (from sphinx>=4.2->numpydoc>=1.1.0->dglgo) (1.0.2)\n",
            "Requirement already satisfied: sphinxcontrib-jsmath in /usr/local/lib/python3.10/dist-packages (from sphinx>=4.2->numpydoc>=1.1.0->dglgo) (1.0.1)\n",
            "Requirement already satisfied: sphinxcontrib-htmlhelp>=2.0.0 in /usr/local/lib/python3.10/dist-packages (from sphinx>=4.2->numpydoc>=1.1.0->dglgo) (2.0.1)\n",
            "Requirement already satisfied: sphinxcontrib-serializinghtml>=1.1.5 in /usr/local/lib/python3.10/dist-packages (from sphinx>=4.2->numpydoc>=1.1.0->dglgo) (1.1.5)\n",
            "Requirement already satisfied: sphinxcontrib-qthelp in /usr/local/lib/python3.10/dist-packages (from sphinx>=4.2->numpydoc>=1.1.0->dglgo) (1.0.3)\n",
            "Requirement already satisfied: Pygments>=2.13 in /usr/local/lib/python3.10/dist-packages (from sphinx>=4.2->numpydoc>=1.1.0->dglgo) (2.14.0)\n",
            "Collecting docutils<0.21,>=0.18.1 (from sphinx>=4.2->numpydoc>=1.1.0->dglgo)\n",
            "  Downloading docutils-0.20.1-py3-none-any.whl (572 kB)\n",
            "\u001b[2K     \u001b[90m━━━━━━━━━━━━━━━━━━━━━━━━━━━━━━━━━━━━━━\u001b[0m \u001b[32m572.7/572.7 kB\u001b[0m \u001b[31m17.4 MB/s\u001b[0m eta \u001b[36m0:00:00\u001b[0m\n",
            "\u001b[?25hRequirement already satisfied: snowballstemmer>=2.0 in /usr/local/lib/python3.10/dist-packages (from sphinx>=4.2->numpydoc>=1.1.0->dglgo) (2.2.0)\n",
            "Requirement already satisfied: babel>=2.9 in /usr/local/lib/python3.10/dist-packages (from sphinx>=4.2->numpydoc>=1.1.0->dglgo) (2.12.1)\n",
            "Requirement already satisfied: alabaster<0.8,>=0.7 in /usr/local/lib/python3.10/dist-packages (from sphinx>=4.2->numpydoc>=1.1.0->dglgo) (0.7.13)\n",
            "Requirement already satisfied: imagesize>=1.3 in /usr/local/lib/python3.10/dist-packages (from sphinx>=4.2->numpydoc>=1.1.0->dglgo) (1.4.1)\n",
            "Requirement already satisfied: packaging>=21.0 in /usr/local/lib/python3.10/dist-packages (from sphinx>=4.2->numpydoc>=1.1.0->dglgo) (23.1)\n",
            "Requirement already satisfied: filelock in /usr/local/lib/python3.10/dist-packages (from torch>=1.6.0->ogb>=1.3.3->dglgo) (3.12.2)\n",
            "Requirement already satisfied: sympy in /usr/local/lib/python3.10/dist-packages (from torch>=1.6.0->ogb>=1.3.3->dglgo) (1.11.1)\n",
            "Requirement already satisfied: networkx in /usr/local/lib/python3.10/dist-packages (from torch>=1.6.0->ogb>=1.3.3->dglgo) (3.1)\n",
            "Requirement already satisfied: triton==2.0.0 in /usr/local/lib/python3.10/dist-packages (from torch>=1.6.0->ogb>=1.3.3->dglgo) (2.0.0)\n",
            "Requirement already satisfied: cmake in /usr/local/lib/python3.10/dist-packages (from triton==2.0.0->torch>=1.6.0->ogb>=1.3.3->dglgo) (3.25.2)\n",
            "Requirement already satisfied: lit in /usr/local/lib/python3.10/dist-packages (from triton==2.0.0->torch>=1.6.0->ogb>=1.3.3->dglgo) (16.0.6)\n",
            "Requirement already satisfied: certifi>=2017.4.17 in /usr/local/lib/python3.10/dist-packages (from requests->outdated>=0.2.0->ogb>=1.3.3->dglgo) (2023.5.7)\n",
            "Requirement already satisfied: charset-normalizer~=2.0.0 in /usr/local/lib/python3.10/dist-packages (from requests->outdated>=0.2.0->ogb>=1.3.3->dglgo) (2.0.12)\n",
            "Requirement already satisfied: idna<4,>=2.5 in /usr/local/lib/python3.10/dist-packages (from requests->outdated>=0.2.0->ogb>=1.3.3->dglgo) (3.4)\n",
            "Requirement already satisfied: mpmath>=0.19 in /usr/local/lib/python3.10/dist-packages (from sympy->torch>=1.6.0->ogb>=1.3.3->dglgo) (1.3.0)\n",
            "Building wheels for collected packages: littleutils\n",
            "  Building wheel for littleutils (setup.py) ... \u001b[?25l\u001b[?25hdone\n",
            "  Created wheel for littleutils: filename=littleutils-0.2.2-py3-none-any.whl size=7029 sha256=9c5cc2a79df9d608a14e164bc6a66cad16639e48595ef343f4fd2da8b8736d4f\n",
            "  Stored in directory: /root/.cache/pip/wheels/3d/fe/b0/27a9892da57472e538c7452a721a9cf463cc03cf7379889266\n",
            "Successfully built littleutils\n",
            "Installing collected packages: littleutils, ruamel.yaml.clib, rdkit-pypi, pycodestyle, isort, docutils, sphinx, ruamel.yaml, outdated, autopep8, numpydoc, ogb, dglgo\n",
            "  Attempting uninstall: docutils\n",
            "    Found existing installation: docutils 0.16\n",
            "    Uninstalling docutils-0.16:\n",
            "      Successfully uninstalled docutils-0.16\n",
            "  Attempting uninstall: sphinx\n",
            "    Found existing installation: Sphinx 3.5.4\n",
            "    Uninstalling Sphinx-3.5.4:\n",
            "      Successfully uninstalled Sphinx-3.5.4\n",
            "Successfully installed autopep8-2.0.2 dglgo-0.0.2 docutils-0.20.1 isort-5.12.0 littleutils-0.2.2 numpydoc-1.5.0 ogb-1.3.6 outdated-0.2.2 pycodestyle-2.10.0 rdkit-pypi-2022.9.5 ruamel.yaml-0.17.32 ruamel.yaml.clib-0.2.7 sphinx-7.0.1\n"
          ]
        }
      ]
    },
    {
      "cell_type": "markdown",
      "metadata": {
        "id": "BGWeJBfzlAju"
      },
      "source": [
        "----------------------------------"
      ]
    },
    {
      "cell_type": "code",
      "execution_count": 3,
      "metadata": {
        "id": "ebvr2-WulAjv"
      },
      "outputs": [],
      "source": [
        "%matplotlib inline\n",
        "import os\n",
        "\n",
        "os.environ[\"DGLBACKEND\"] = \"pytorch\"\n",
        "import dgl\n",
        "import numpy as np\n",
        "import networkx as nx\n",
        "import torch\n",
        "import torch.nn as nn"
      ]
    },
    {
      "cell_type": "markdown",
      "metadata": {
        "id": "LXTMLUT-lAj9"
      },
      "source": [
        "## defining graph\n",
        "\n",
        "\n"
      ]
    },
    {
      "cell_type": "code",
      "execution_count": 4,
      "metadata": {
        "id": "iFf5pcVnlAj9"
      },
      "outputs": [],
      "source": [
        "g = dgl.graph(([0, 0, 0, 0, 0], [1, 2, 3, 4, 5]), num_nodes=6)\n",
        "# Equivalently, PyTorch LongTensors also work.\n",
        "g = dgl.graph(\n",
        "    (torch.LongTensor([0, 0, 0, 0, 0]), torch.LongTensor([1, 2, 3, 4, 5])),\n",
        "    num_nodes=6,\n",
        ")\n",
        "\n",
        "# You can omit the number of nodes argument if you can tell the number of nodes from the edge list alone.\n",
        "g = dgl.graph(([0, 0, 0, 0, 0], [1, 2, 3, 4, 5]))"
      ]
    },
    {
      "cell_type": "code",
      "execution_count": 5,
      "metadata": {
        "id": "siOr3BfmlAj9",
        "outputId": "0ff26a1c-ad09-41ee-a19c-77eab9c8d8d3",
        "colab": {
          "base_uri": "https://localhost:8080/"
        }
      },
      "outputs": [
        {
          "output_type": "stream",
          "name": "stdout",
          "text": [
            "tensor([[ 0.9155, -0.8067, -0.6867],\n",
            "        [ 0.0349, -0.7575, -1.0134],\n",
            "        [ 0.3098, -1.4378,  0.1997],\n",
            "        [ 0.0183,  0.7776, -0.4008],\n",
            "        [ 1.6069,  0.5431,  0.1179],\n",
            "        [-0.7951,  1.0174, -0.6450]])\n"
          ]
        }
      ],
      "source": [
        "# Assign a 3-dimensional node feature vector for each node.\n",
        "g.ndata[\"x\"] = torch.randn(6, 3)\n",
        "# Assign a 4-dimensional edge feature vector for each edge.\n",
        "g.edata[\"a\"] = torch.randn(5, 4)\n",
        "# Assign a 5x4 node feature matrix for each node.  Node and edge features in DGL can be multi-dimensional.\n",
        "g.ndata[\"y\"] = torch.randn(6, 5, 4)\n",
        "\n",
        "print(g.ndata[\"x\"])"
      ]
    },
    {
      "cell_type": "markdown",
      "source": [
        "## Querying graph structure"
      ],
      "metadata": {
        "id": "fP9QE-I4Japk"
      }
    },
    {
      "cell_type": "code",
      "execution_count": 8,
      "metadata": {
        "id": "jXTsqOQblAj9",
        "outputId": "2073ea35-ba82-41bb-dd3b-691d9d24c972",
        "colab": {
          "base_uri": "https://localhost:8080/"
        }
      },
      "outputs": [
        {
          "output_type": "stream",
          "name": "stdout",
          "text": [
            "Number of nodes are: 6\n",
            "Alias of Number of nodes are: 6\n",
            "Number of edges are: 5\n",
            "Alias of Number of edges are: 5\n",
            "Number of source nodes: 6\n",
            "Alias of Number of source nodes are: 6\n",
            "Number of destination nodes: 6\n",
            "Alias of Number of destination nodes are: 6\n",
            "Is g a graph uni-bipartite: False\n",
            "Is g a multi graph: False\n",
            "Is g a homogeneous graph: True\n"
          ]
        }
      ],
      "source": [
        "#performing tasks\n",
        "\n",
        "print(\"Number of nodes are: {}\".format(g.num_nodes()))\n",
        "print(\"Alias of Number of nodes are: {}\".format(g.number_of_nodes()))\n",
        "print(\"Number of edges are: {}\".format(g.num_edges()))\n",
        "print(\"Alias of Number of edges are: {}\".format(g.number_of_edges()))\n",
        "print(\"Number of source nodes: {}\".format(g.num_src_nodes()))\n",
        "print(\"Alias of Number of source nodes are: {}\".format(g.number_of_src_nodes()))\n",
        "print(\"Number of destination nodes: {}\".format(g.num_dst_nodes()))\n",
        "print(\"Alias of Number of destination nodes are: {}\".format(g.number_of_dst_nodes()))\n",
        "print(\"Is g a graph uni-bipartite: {}\".format(g.is_unibipartite))\n",
        "print(\"Is g a multi graph: {}\".format(g.is_multigraph))\n",
        "print(\"Is g a homogeneous graph: {}\".format(g.is_homogeneous))"
      ]
    },
    {
      "cell_type": "code",
      "source": [
        "print(\"does g has node 4?: {}\".format(g.has_nodes(4)))\n",
        "print(\"does g has edges between 2 and 4?: {}\".format(g.has_edges_between(2, 4)))\n",
        "print(\"predecessors of node 3: {}\".format(g.predecessors(3)))\n",
        "print(\"successor(s) of node 3: {}\".format(g.successors(3)))\n",
        "print(\"edge ids given for 0 and 1?: [{}]\".format(g.edge_ids(0, 1)))\n",
        "print(\"source and destination nodes between 0,2: {}\".format(g.find_edges))\n",
        "print(\"incoming edges of node 2: {}\".format(g.in_edges))\n",
        "print(\"outgoing edges of node 2: {}\".format(g.out_edges))\n",
        "print(\"in degrees of node 2: {}\".format(g.in_degrees))\n",
        "print(\"out degrees of node 2: {}\".format(g.out_degrees))"
      ],
      "metadata": {
        "colab": {
          "base_uri": "https://localhost:8080/"
        },
        "id": "H90iwgFFElZf",
        "outputId": "6434ef22-d1af-401d-c165-344c41ea765f"
      },
      "execution_count": 24,
      "outputs": [
        {
          "output_type": "stream",
          "name": "stdout",
          "text": [
            "does g has node 4?: True\n",
            "does g has edges between 2 and 4?: False\n",
            "predecessors of node 3: tensor([0])\n",
            "successor(s) of node 3: tensor([], dtype=torch.int64)\n",
            "edge ids given for 0 and 1?: [0]\n",
            "source and destination nodes between 0,2: <bound method DGLGraph.find_edges of Graph(num_nodes=6, num_edges=5,\n",
            "      ndata_schemes={'x': Scheme(shape=(3,), dtype=torch.float32), 'y': Scheme(shape=(5, 4), dtype=torch.float32)}\n",
            "      edata_schemes={'a': Scheme(shape=(4,), dtype=torch.float32)})>\n",
            "incoming edges of node 2: <bound method DGLGraph.in_edges of Graph(num_nodes=6, num_edges=5,\n",
            "      ndata_schemes={'x': Scheme(shape=(3,), dtype=torch.float32), 'y': Scheme(shape=(5, 4), dtype=torch.float32)}\n",
            "      edata_schemes={'a': Scheme(shape=(4,), dtype=torch.float32)})>\n",
            "outgoing edges of node 2: <bound method DGLGraph.out_edges of Graph(num_nodes=6, num_edges=5,\n",
            "      ndata_schemes={'x': Scheme(shape=(3,), dtype=torch.float32), 'y': Scheme(shape=(5, 4), dtype=torch.float32)}\n",
            "      edata_schemes={'a': Scheme(shape=(4,), dtype=torch.float32)})>\n",
            "in degrees of node 2: <bound method DGLGraph.in_degrees of Graph(num_nodes=6, num_edges=5,\n",
            "      ndata_schemes={'x': Scheme(shape=(3,), dtype=torch.float32), 'y': Scheme(shape=(5, 4), dtype=torch.float32)}\n",
            "      edata_schemes={'a': Scheme(shape=(4,), dtype=torch.float32)})>\n",
            "out degrees of node 2: <bound method DGLGraph.out_degrees of Graph(num_nodes=6, num_edges=5,\n",
            "      ndata_schemes={'x': Scheme(shape=(3,), dtype=torch.float32), 'y': Scheme(shape=(5, 4), dtype=torch.float32)}\n",
            "      edata_schemes={'a': Scheme(shape=(4,), dtype=torch.float32)})>\n"
          ]
        }
      ]
    },
    {
      "cell_type": "markdown",
      "source": [
        "## Querying and manipulating node/edge ID type¶\n"
      ],
      "metadata": {
        "id": "ACLjnYGiJWoI"
      }
    },
    {
      "cell_type": "code",
      "source": [
        "print(\"type of graph data: {}\".format(g.idtype))\n",
        "#Cast the graph to one with idtype int64\n",
        "print(g.long())\n",
        "#Cast the graph to one with idtype int32\n",
        "print(g.int())"
      ],
      "metadata": {
        "colab": {
          "base_uri": "https://localhost:8080/"
        },
        "id": "8hvBWHhwEX3j",
        "outputId": "6d0e9ceb-3ee2-4673-eed4-195f16103379"
      },
      "execution_count": 26,
      "outputs": [
        {
          "output_type": "stream",
          "name": "stdout",
          "text": [
            "type of graph data: torch.int64\n",
            "Graph(num_nodes=6, num_edges=5,\n",
            "      ndata_schemes={'x': Scheme(shape=(3,), dtype=torch.float32), 'y': Scheme(shape=(5, 4), dtype=torch.float32)}\n",
            "      edata_schemes={'a': Scheme(shape=(4,), dtype=torch.float32)})\n",
            "Graph(num_nodes=6, num_edges=5,\n",
            "      ndata_schemes={'x': Scheme(shape=(3,), dtype=torch.float32), 'y': Scheme(shape=(5, 4), dtype=torch.float32)}\n",
            "      edata_schemes={'a': Scheme(shape=(4,), dtype=torch.float32)})\n"
          ]
        }
      ]
    },
    {
      "cell_type": "markdown",
      "source": [
        "## Using Node/edge features\n"
      ],
      "metadata": {
        "id": "qTuVajKnLBV5"
      }
    },
    {
      "cell_type": "code",
      "source": [
        "print(\"nodes view of g: {}\".format(g.nodes()))\n",
        "print(\"data view for node features of g: {}\".format(g.ndata))\n",
        "print(\"edges view of g: {}\".format(g.edges()))\n",
        "print(\"data view for edge features of g: {}\".format(g.edata))\n",
        "print(\"g node feature schemes: {}\".format(g.node_attr_schemes))\n",
        "print(\"g edge feature schemes: {}\".format(g.edge_attr_schemes))\n",
        "print(\"node view of souce nodes at g: {}\".format(g.srcnodes()))\n",
        "print(\"node view of destination nodes at g: {}\".format(g.dstnodes()))\n",
        "print(\"data view for source node features: {}\".format(g.srcdata))\n",
        "print(\"data view for destination node features: {}\".format(g.dstdata))"
      ],
      "metadata": {
        "colab": {
          "base_uri": "https://localhost:8080/"
        },
        "id": "mKJE9nwPLDsJ",
        "outputId": "ac0e0015-0f80-4d77-b929-77018a00df14"
      },
      "execution_count": 37,
      "outputs": [
        {
          "output_type": "stream",
          "name": "stdout",
          "text": [
            "nodes view of g: tensor([0, 1, 2, 3, 4, 5])\n",
            "data view for node features of g: {'x': tensor([[ 0.9155, -0.8067, -0.6867],\n",
            "        [ 0.0349, -0.7575, -1.0134],\n",
            "        [ 0.3098, -1.4378,  0.1997],\n",
            "        [ 0.0183,  0.7776, -0.4008],\n",
            "        [ 1.6069,  0.5431,  0.1179],\n",
            "        [-0.7951,  1.0174, -0.6450]]), 'y': tensor([[[-8.6400e-01, -1.3621e+00,  1.0460e+00,  1.4120e+00],\n",
            "         [-1.9421e+00, -5.4960e-01, -3.2494e-01,  4.5626e-01],\n",
            "         [-1.4123e+00, -2.9757e-01,  3.3146e-01,  2.6294e+00],\n",
            "         [-4.1876e-02,  1.1770e+00, -1.2094e+00, -6.0943e-01],\n",
            "         [-8.8870e-01,  1.0696e+00, -3.0551e-01,  3.4084e-01]],\n",
            "\n",
            "        [[ 1.9984e+00, -1.2550e+00, -6.4575e-01,  1.3553e+00],\n",
            "         [ 2.8241e-02,  4.8059e-01, -7.8165e-02,  1.0564e+00],\n",
            "         [ 4.7732e-02, -8.6159e-01,  2.2871e-01, -2.5073e-01],\n",
            "         [ 3.6130e-01, -2.1704e-01,  2.4212e-01, -5.1710e-01],\n",
            "         [-3.1369e-01,  1.0030e+00, -2.2104e-01, -5.1071e-01]],\n",
            "\n",
            "        [[-1.4646e+00, -3.1892e-01, -5.9868e-01, -4.5489e-01],\n",
            "         [-1.7489e-01,  1.3433e+00, -3.4719e-01,  8.5357e-01],\n",
            "         [ 1.4669e-04, -5.2283e-01,  2.2514e+00,  1.2055e-01],\n",
            "         [ 1.0501e+00,  2.0545e+00, -9.4383e-01,  7.9304e-01],\n",
            "         [ 7.9765e-01,  1.6644e+00,  6.7952e-01, -3.3193e-01]],\n",
            "\n",
            "        [[-9.9862e-02,  1.3872e-01,  2.2466e+00,  1.6854e+00],\n",
            "         [-6.5711e-01, -1.0883e-01,  8.2873e-01, -6.7563e-01],\n",
            "         [-6.5587e-01, -1.5838e+00,  1.5943e-02,  1.4242e+00],\n",
            "         [ 3.3059e-01, -2.4628e-01,  9.3974e-01,  6.8380e-01],\n",
            "         [-1.6682e+00, -9.8072e-01,  4.3714e-02,  4.9069e-01]],\n",
            "\n",
            "        [[ 1.2504e+00,  5.9593e-01, -1.3827e+00,  1.5914e+00],\n",
            "         [-1.8241e+00,  5.2175e-01, -1.3773e+00,  7.2923e-01],\n",
            "         [-1.4858e+00, -3.0909e+00,  8.2537e-01,  3.9772e-01],\n",
            "         [ 8.6111e-01,  1.2799e+00,  1.5060e-02,  8.2101e-01],\n",
            "         [ 5.1456e-02, -4.0290e-01, -1.7075e-01, -1.5464e-01]],\n",
            "\n",
            "        [[ 1.1626e+00,  5.7744e-01, -2.7498e-01,  1.2766e-01],\n",
            "         [-8.6968e-01,  7.6285e-01,  5.5131e-01, -4.0787e-01],\n",
            "         [ 3.5654e-01, -5.7706e-01,  8.1843e-01, -1.6722e+00],\n",
            "         [-1.4333e+00, -1.3948e-01,  4.3761e-01,  1.0967e-01],\n",
            "         [ 1.2376e+00, -1.4881e-01, -8.8989e-01, -1.0544e+00]]])}\n",
            "edges view of g: (tensor([0, 0, 0, 0, 0]), tensor([1, 2, 3, 4, 5]))\n",
            "data view for edge features of g: {'a': tensor([[-0.6481,  0.1382,  1.1697,  0.2348],\n",
            "        [ 1.0810, -1.4931,  0.7913,  1.2665],\n",
            "        [-0.9555, -0.1124,  1.5530, -0.0539],\n",
            "        [-1.4145, -0.0813,  0.4310, -0.4352],\n",
            "        [-0.0931, -1.5716, -0.3755, -0.5918]])}\n",
            "g node feature schemes: <bound method DGLGraph.node_attr_schemes of Graph(num_nodes=6, num_edges=5,\n",
            "      ndata_schemes={'x': Scheme(shape=(3,), dtype=torch.float32), 'y': Scheme(shape=(5, 4), dtype=torch.float32)}\n",
            "      edata_schemes={'a': Scheme(shape=(4,), dtype=torch.float32)})>\n",
            "g edge feature schemes: <bound method DGLGraph.edge_attr_schemes of Graph(num_nodes=6, num_edges=5,\n",
            "      ndata_schemes={'x': Scheme(shape=(3,), dtype=torch.float32), 'y': Scheme(shape=(5, 4), dtype=torch.float32)}\n",
            "      edata_schemes={'a': Scheme(shape=(4,), dtype=torch.float32)})>\n",
            "node view of souce nodes at g: tensor([0, 1, 2, 3, 4, 5])\n",
            "node view of destination nodes at g: tensor([0, 1, 2, 3, 4, 5])\n",
            "data view for source node features: {'x': tensor([[ 0.9155, -0.8067, -0.6867],\n",
            "        [ 0.0349, -0.7575, -1.0134],\n",
            "        [ 0.3098, -1.4378,  0.1997],\n",
            "        [ 0.0183,  0.7776, -0.4008],\n",
            "        [ 1.6069,  0.5431,  0.1179],\n",
            "        [-0.7951,  1.0174, -0.6450]]), 'y': tensor([[[-8.6400e-01, -1.3621e+00,  1.0460e+00,  1.4120e+00],\n",
            "         [-1.9421e+00, -5.4960e-01, -3.2494e-01,  4.5626e-01],\n",
            "         [-1.4123e+00, -2.9757e-01,  3.3146e-01,  2.6294e+00],\n",
            "         [-4.1876e-02,  1.1770e+00, -1.2094e+00, -6.0943e-01],\n",
            "         [-8.8870e-01,  1.0696e+00, -3.0551e-01,  3.4084e-01]],\n",
            "\n",
            "        [[ 1.9984e+00, -1.2550e+00, -6.4575e-01,  1.3553e+00],\n",
            "         [ 2.8241e-02,  4.8059e-01, -7.8165e-02,  1.0564e+00],\n",
            "         [ 4.7732e-02, -8.6159e-01,  2.2871e-01, -2.5073e-01],\n",
            "         [ 3.6130e-01, -2.1704e-01,  2.4212e-01, -5.1710e-01],\n",
            "         [-3.1369e-01,  1.0030e+00, -2.2104e-01, -5.1071e-01]],\n",
            "\n",
            "        [[-1.4646e+00, -3.1892e-01, -5.9868e-01, -4.5489e-01],\n",
            "         [-1.7489e-01,  1.3433e+00, -3.4719e-01,  8.5357e-01],\n",
            "         [ 1.4669e-04, -5.2283e-01,  2.2514e+00,  1.2055e-01],\n",
            "         [ 1.0501e+00,  2.0545e+00, -9.4383e-01,  7.9304e-01],\n",
            "         [ 7.9765e-01,  1.6644e+00,  6.7952e-01, -3.3193e-01]],\n",
            "\n",
            "        [[-9.9862e-02,  1.3872e-01,  2.2466e+00,  1.6854e+00],\n",
            "         [-6.5711e-01, -1.0883e-01,  8.2873e-01, -6.7563e-01],\n",
            "         [-6.5587e-01, -1.5838e+00,  1.5943e-02,  1.4242e+00],\n",
            "         [ 3.3059e-01, -2.4628e-01,  9.3974e-01,  6.8380e-01],\n",
            "         [-1.6682e+00, -9.8072e-01,  4.3714e-02,  4.9069e-01]],\n",
            "\n",
            "        [[ 1.2504e+00,  5.9593e-01, -1.3827e+00,  1.5914e+00],\n",
            "         [-1.8241e+00,  5.2175e-01, -1.3773e+00,  7.2923e-01],\n",
            "         [-1.4858e+00, -3.0909e+00,  8.2537e-01,  3.9772e-01],\n",
            "         [ 8.6111e-01,  1.2799e+00,  1.5060e-02,  8.2101e-01],\n",
            "         [ 5.1456e-02, -4.0290e-01, -1.7075e-01, -1.5464e-01]],\n",
            "\n",
            "        [[ 1.1626e+00,  5.7744e-01, -2.7498e-01,  1.2766e-01],\n",
            "         [-8.6968e-01,  7.6285e-01,  5.5131e-01, -4.0787e-01],\n",
            "         [ 3.5654e-01, -5.7706e-01,  8.1843e-01, -1.6722e+00],\n",
            "         [-1.4333e+00, -1.3948e-01,  4.3761e-01,  1.0967e-01],\n",
            "         [ 1.2376e+00, -1.4881e-01, -8.8989e-01, -1.0544e+00]]])}\n",
            "data view for destination node features: {'x': tensor([[ 0.9155, -0.8067, -0.6867],\n",
            "        [ 0.0349, -0.7575, -1.0134],\n",
            "        [ 0.3098, -1.4378,  0.1997],\n",
            "        [ 0.0183,  0.7776, -0.4008],\n",
            "        [ 1.6069,  0.5431,  0.1179],\n",
            "        [-0.7951,  1.0174, -0.6450]]), 'y': tensor([[[-8.6400e-01, -1.3621e+00,  1.0460e+00,  1.4120e+00],\n",
            "         [-1.9421e+00, -5.4960e-01, -3.2494e-01,  4.5626e-01],\n",
            "         [-1.4123e+00, -2.9757e-01,  3.3146e-01,  2.6294e+00],\n",
            "         [-4.1876e-02,  1.1770e+00, -1.2094e+00, -6.0943e-01],\n",
            "         [-8.8870e-01,  1.0696e+00, -3.0551e-01,  3.4084e-01]],\n",
            "\n",
            "        [[ 1.9984e+00, -1.2550e+00, -6.4575e-01,  1.3553e+00],\n",
            "         [ 2.8241e-02,  4.8059e-01, -7.8165e-02,  1.0564e+00],\n",
            "         [ 4.7732e-02, -8.6159e-01,  2.2871e-01, -2.5073e-01],\n",
            "         [ 3.6130e-01, -2.1704e-01,  2.4212e-01, -5.1710e-01],\n",
            "         [-3.1369e-01,  1.0030e+00, -2.2104e-01, -5.1071e-01]],\n",
            "\n",
            "        [[-1.4646e+00, -3.1892e-01, -5.9868e-01, -4.5489e-01],\n",
            "         [-1.7489e-01,  1.3433e+00, -3.4719e-01,  8.5357e-01],\n",
            "         [ 1.4669e-04, -5.2283e-01,  2.2514e+00,  1.2055e-01],\n",
            "         [ 1.0501e+00,  2.0545e+00, -9.4383e-01,  7.9304e-01],\n",
            "         [ 7.9765e-01,  1.6644e+00,  6.7952e-01, -3.3193e-01]],\n",
            "\n",
            "        [[-9.9862e-02,  1.3872e-01,  2.2466e+00,  1.6854e+00],\n",
            "         [-6.5711e-01, -1.0883e-01,  8.2873e-01, -6.7563e-01],\n",
            "         [-6.5587e-01, -1.5838e+00,  1.5943e-02,  1.4242e+00],\n",
            "         [ 3.3059e-01, -2.4628e-01,  9.3974e-01,  6.8380e-01],\n",
            "         [-1.6682e+00, -9.8072e-01,  4.3714e-02,  4.9069e-01]],\n",
            "\n",
            "        [[ 1.2504e+00,  5.9593e-01, -1.3827e+00,  1.5914e+00],\n",
            "         [-1.8241e+00,  5.2175e-01, -1.3773e+00,  7.2923e-01],\n",
            "         [-1.4858e+00, -3.0909e+00,  8.2537e-01,  3.9772e-01],\n",
            "         [ 8.6111e-01,  1.2799e+00,  1.5060e-02,  8.2101e-01],\n",
            "         [ 5.1456e-02, -4.0290e-01, -1.7075e-01, -1.5464e-01]],\n",
            "\n",
            "        [[ 1.1626e+00,  5.7744e-01, -2.7498e-01,  1.2766e-01],\n",
            "         [-8.6968e-01,  7.6285e-01,  5.5131e-01, -4.0787e-01],\n",
            "         [ 3.5654e-01, -5.7706e-01,  8.1843e-01, -1.6722e+00],\n",
            "         [-1.4333e+00, -1.3948e-01,  4.3761e-01,  1.0967e-01],\n",
            "         [ 1.2376e+00, -1.4881e-01, -8.8989e-01, -1.0544e+00]]])}\n"
          ]
        }
      ]
    },
    {
      "cell_type": "markdown",
      "source": [
        "## Transforming graph"
      ],
      "metadata": {
        "id": "j4imMTMnNFZx"
      }
    },
    {
      "cell_type": "code",
      "source": [
        "h = dgl.heterograph({\n",
        "    ('user', 'plays', 'game'): ([0, 1, 1, 2], [0, 0, 2, 1]),\n",
        "    ('user', 'follows', 'user'): ([0, 1, 1], [1, 2, 2])\n",
        "})"
      ],
      "metadata": {
        "id": "gQxDQ-frOtZ9"
      },
      "execution_count": 43,
      "outputs": []
    },
    {
      "cell_type": "code",
      "source": [
        "#creating subgraphs\n",
        "# Induce a subgraph from node 0, node 1 and node 3 from the original graph.\n",
        "sg1 = g.subgraph([0, 1, 3])\n",
        "# Induce a subgraph from edge 0, edge 1 and edge 3 from the original graph.\n",
        "sg2 = g.edge_subgraph([0, 1, 3])\n",
        "\n",
        "\n",
        "sh1 = h.subgraph({'user': [1, 2]})\n",
        "\n",
        "sh2 = h.edge_subgraph({('user', 'follows', 'user'): [1, 2],\n",
        "                              ('user', 'plays', 'game'): [2]})"
      ],
      "metadata": {
        "id": "CEYiYEegNGuj"
      },
      "execution_count": 46,
      "outputs": []
    },
    {
      "cell_type": "code",
      "source": [
        "sh3 = h.node_type_subgraph(['user'])\n",
        "sh4 = h.edge_type_subgraph(['follows'])\n"
      ],
      "metadata": {
        "id": "9SF4fFlLNQYv"
      },
      "execution_count": 48,
      "outputs": []
    },
    {
      "cell_type": "code",
      "source": [
        "print(\"sg1: {}\".format(sg1))\n",
        "print(\"sg2: {}\".format(sg2))\n",
        "print(\"sh1: {}\".format(sh1))\n",
        "print(\"sh2: {}\".format(sh2))\n",
        "print(\"sh3: {}\".format(sh3))\n",
        "print(\"sh4: {}\".format(sh4))"
      ],
      "metadata": {
        "colab": {
          "base_uri": "https://localhost:8080/"
        },
        "id": "eyaZVgtAQxPF",
        "outputId": "0208fc9a-cd95-45aa-f300-4ec9b6304775"
      },
      "execution_count": 49,
      "outputs": [
        {
          "output_type": "stream",
          "name": "stdout",
          "text": [
            "sg1: Graph(num_nodes=3, num_edges=2,\n",
            "      ndata_schemes={'x': Scheme(shape=(3,), dtype=torch.float32), 'y': Scheme(shape=(5, 4), dtype=torch.float32), '_ID': Scheme(shape=(), dtype=torch.int64)}\n",
            "      edata_schemes={'a': Scheme(shape=(4,), dtype=torch.float32), '_ID': Scheme(shape=(), dtype=torch.int64)})\n",
            "sg2: Graph(num_nodes=4, num_edges=3,\n",
            "      ndata_schemes={'x': Scheme(shape=(3,), dtype=torch.float32), 'y': Scheme(shape=(5, 4), dtype=torch.float32), '_ID': Scheme(shape=(), dtype=torch.int64)}\n",
            "      edata_schemes={'a': Scheme(shape=(4,), dtype=torch.float32), '_ID': Scheme(shape=(), dtype=torch.int64)})\n",
            "sh1: Graph(num_nodes={'game': 0, 'user': 2},\n",
            "      num_edges={('user', 'follows', 'user'): 2, ('user', 'plays', 'game'): 0},\n",
            "      metagraph=[('user', 'user', 'follows'), ('user', 'game', 'plays')])\n",
            "sh2: Graph(num_nodes={'game': 1, 'user': 2},\n",
            "      num_edges={('user', 'follows', 'user'): 2, ('user', 'plays', 'game'): 1},\n",
            "      metagraph=[('user', 'user', 'follows'), ('user', 'game', 'plays')])\n",
            "sh3: Graph(num_nodes=3, num_edges=3,\n",
            "      ndata_schemes={}\n",
            "      edata_schemes={})\n",
            "sh4: Graph(num_nodes=3, num_edges=3,\n",
            "      ndata_schemes={}\n",
            "      edata_schemes={})\n"
          ]
        }
      ]
    },
    {
      "cell_type": "code",
      "source": [
        "print(g.line_graph)"
      ],
      "metadata": {
        "colab": {
          "base_uri": "https://localhost:8080/"
        },
        "id": "1eFrDqU_RYCr",
        "outputId": "4e31f5fe-e575-46eb-a2de-c6c7c0c32a6c"
      },
      "execution_count": 50,
      "outputs": [
        {
          "output_type": "stream",
          "name": "stdout",
          "text": [
            "<bound method line_graph of Graph(num_nodes=6, num_edges=5,\n",
            "      ndata_schemes={'x': Scheme(shape=(3,), dtype=torch.float32), 'y': Scheme(shape=(5, 4), dtype=torch.float32)}\n",
            "      edata_schemes={'a': Scheme(shape=(4,), dtype=torch.float32)})>\n"
          ]
        }
      ]
    },
    {
      "cell_type": "code",
      "source": [
        "g.reverse(copy_ndata = True,copy_edata = False)"
      ],
      "metadata": {
        "colab": {
          "base_uri": "https://localhost:8080/"
        },
        "id": "bYHTpLIORgv2",
        "outputId": "25d498ba-cf47-4f55-d2da-f788c091d73e"
      },
      "execution_count": 51,
      "outputs": [
        {
          "output_type": "execute_result",
          "data": {
            "text/plain": [
              "Graph(num_nodes=6, num_edges=5,\n",
              "      ndata_schemes={'x': Scheme(shape=(3,), dtype=torch.float32), 'y': Scheme(shape=(5, 4), dtype=torch.float32)}\n",
              "      edata_schemes={})"
            ]
          },
          "metadata": {},
          "execution_count": 51
        }
      ]
    },
    {
      "cell_type": "code",
      "source": [
        "h = h.add_self_loop(etype='follows')"
      ],
      "metadata": {
        "id": "MM38hJSARxcg"
      },
      "execution_count": 53,
      "outputs": []
    },
    {
      "cell_type": "code",
      "source": [
        "h = h.remove_self_loop(etype='follows')"
      ],
      "metadata": {
        "id": "wI0u_-wRSJiI"
      },
      "execution_count": 54,
      "outputs": []
    },
    {
      "cell_type": "code",
      "source": [
        "sg3, wm = g.to_simple(copy_ndata=False, writeback_mapping=True)\n",
        "sg3"
      ],
      "metadata": {
        "colab": {
          "base_uri": "https://localhost:8080/"
        },
        "id": "Bj_G3JEASgXf",
        "outputId": "034f6f69-37d8-47a5-8012-fa24cd32d1e0"
      },
      "execution_count": 55,
      "outputs": [
        {
          "output_type": "execute_result",
          "data": {
            "text/plain": [
              "Graph(num_nodes=6, num_edges=5,\n",
              "      ndata_schemes={}\n",
              "      edata_schemes={'count': Scheme(shape=(), dtype=torch.int64)})"
            ]
          },
          "metadata": {},
          "execution_count": 55
        }
      ]
    },
    {
      "cell_type": "markdown",
      "source": [
        "# Part 2"
      ],
      "metadata": {
        "id": "aOHwAdnZTZqd"
      }
    },
    {
      "cell_type": "markdown",
      "source": [
        "## Subgraph Extraction Ops\n"
      ],
      "metadata": {
        "id": "8AajpwycUKE1"
      }
    },
    {
      "cell_type": "code",
      "source": [
        "g1 = dgl.graph(([0, 1, 2, 3, 4], [1, 2, 3, 4, 0]))\n",
        "sg11 = dgl.node_subgraph(g, [0, 1, 4])\n",
        "sg11"
      ],
      "metadata": {
        "colab": {
          "base_uri": "https://localhost:8080/"
        },
        "id": "FL2cnAW8ThJE",
        "outputId": "7fd28581-f988-4397-e7bd-341328ce13d7"
      },
      "execution_count": 60,
      "outputs": [
        {
          "output_type": "execute_result",
          "data": {
            "text/plain": [
              "Graph(num_nodes=3, num_edges=2,\n",
              "      ndata_schemes={'x': Scheme(shape=(3,), dtype=torch.float32), 'y': Scheme(shape=(5, 4), dtype=torch.float32), '_ID': Scheme(shape=(), dtype=torch.int64)}\n",
              "      edata_schemes={'a': Scheme(shape=(4,), dtype=torch.float32), '_ID': Scheme(shape=(), dtype=torch.int64)})"
            ]
          },
          "metadata": {},
          "execution_count": 60
        }
      ]
    },
    {
      "cell_type": "code",
      "source": [
        "sg12 = dgl.edge_subgraph(g1, [0, 4])\n",
        "sg12"
      ],
      "metadata": {
        "colab": {
          "base_uri": "https://localhost:8080/"
        },
        "id": "_1Sv0vTZUrTU",
        "outputId": "2f8be52d-1327-48a1-c2d3-12855662bb12"
      },
      "execution_count": 61,
      "outputs": [
        {
          "output_type": "execute_result",
          "data": {
            "text/plain": [
              "Graph(num_nodes=3, num_edges=2,\n",
              "      ndata_schemes={'_ID': Scheme(shape=(), dtype=torch.int64)}\n",
              "      edata_schemes={'_ID': Scheme(shape=(), dtype=torch.int64)})"
            ]
          },
          "metadata": {},
          "execution_count": 61
        }
      ]
    },
    {
      "cell_type": "code",
      "source": [
        "sh11 = h.node_type_subgraph(['user'])\n",
        "sh11"
      ],
      "metadata": {
        "colab": {
          "base_uri": "https://localhost:8080/"
        },
        "id": "iP5nmtDQU2fV",
        "outputId": "fa5e3a94-2367-43b0-99eb-e10a234be4a6"
      },
      "execution_count": 63,
      "outputs": [
        {
          "output_type": "execute_result",
          "data": {
            "text/plain": [
              "Graph(num_nodes=3, num_edges=3,\n",
              "      ndata_schemes={}\n",
              "      edata_schemes={})"
            ]
          },
          "metadata": {},
          "execution_count": 63
        }
      ]
    },
    {
      "cell_type": "code",
      "source": [
        "sh12 = h.edge_type_subgraph(['plays'])\n",
        "sh12"
      ],
      "metadata": {
        "colab": {
          "base_uri": "https://localhost:8080/"
        },
        "id": "r0BFLru_VUun",
        "outputId": "e1dfb3d8-1d85-414a-ad12-3564f1862ade"
      },
      "execution_count": 64,
      "outputs": [
        {
          "output_type": "execute_result",
          "data": {
            "text/plain": [
              "Graph(num_nodes={'game': 3, 'user': 3},\n",
              "      num_edges={('user', 'plays', 'game'): 4},\n",
              "      metagraph=[('user', 'game', 'plays')])"
            ]
          },
          "metadata": {},
          "execution_count": 64
        }
      ]
    },
    {
      "cell_type": "code",
      "source": [
        "sg13 = dgl.in_subgraph(g1, [4, 0])\n",
        "sg13"
      ],
      "metadata": {
        "colab": {
          "base_uri": "https://localhost:8080/"
        },
        "id": "RxmglRUeVlJw",
        "outputId": "aba9bf2f-bc1e-4a6c-bec1-08445aa13fd3"
      },
      "execution_count": 68,
      "outputs": [
        {
          "output_type": "execute_result",
          "data": {
            "text/plain": [
              "Graph(num_nodes=5, num_edges=2,\n",
              "      ndata_schemes={}\n",
              "      edata_schemes={'_ID': Scheme(shape=(), dtype=torch.int64)})"
            ]
          },
          "metadata": {},
          "execution_count": 68
        }
      ]
    },
    {
      "cell_type": "code",
      "source": [
        "sg14 = dgl.out_subgraph(g1, [4, 0], relabel_nodes=True)\n",
        "sg14"
      ],
      "metadata": {
        "colab": {
          "base_uri": "https://localhost:8080/"
        },
        "id": "Wf9yjeEQVzL3",
        "outputId": "205a0acf-2bd8-4a24-f76a-e6a6c56a6d94"
      },
      "execution_count": 69,
      "outputs": [
        {
          "output_type": "execute_result",
          "data": {
            "text/plain": [
              "Graph(num_nodes=3, num_edges=2,\n",
              "      ndata_schemes={'_ID': Scheme(shape=(), dtype=torch.int64)}\n",
              "      edata_schemes={'_ID': Scheme(shape=(), dtype=torch.int64)})"
            ]
          },
          "metadata": {},
          "execution_count": 69
        }
      ]
    },
    {
      "cell_type": "code",
      "source": [
        "sg15 = dgl.khop_in_subgraph(g1, 0, k=2)\n",
        "sg15"
      ],
      "metadata": {
        "colab": {
          "base_uri": "https://localhost:8080/"
        },
        "id": "hUBE_hbtV-Yg",
        "outputId": "cbfe23e1-fe06-4b85-81b2-3f759b7a41bf"
      },
      "execution_count": 70,
      "outputs": [
        {
          "output_type": "execute_result",
          "data": {
            "text/plain": [
              "(Graph(num_nodes=3, num_edges=2,\n",
              "       ndata_schemes={'_ID': Scheme(shape=(), dtype=torch.int64)}\n",
              "       edata_schemes={'_ID': Scheme(shape=(), dtype=torch.int64)}),\n",
              " tensor([0]))"
            ]
          },
          "metadata": {},
          "execution_count": 70
        }
      ]
    },
    {
      "cell_type": "code",
      "source": [
        "sg16 = dgl.khop_out_subgraph(g1, 0, k=2)\n",
        "sg16"
      ],
      "metadata": {
        "colab": {
          "base_uri": "https://localhost:8080/"
        },
        "id": "L5CYaErEWDhj",
        "outputId": "13d4a22d-d211-4bc5-9e17-d26b942a16e7"
      },
      "execution_count": 71,
      "outputs": [
        {
          "output_type": "execute_result",
          "data": {
            "text/plain": [
              "(Graph(num_nodes=3, num_edges=2,\n",
              "       ndata_schemes={'_ID': Scheme(shape=(), dtype=torch.int64)}\n",
              "       edata_schemes={'_ID': Scheme(shape=(), dtype=torch.int64)}),\n",
              " tensor([0]))"
            ]
          },
          "metadata": {},
          "execution_count": 71
        }
      ]
    },
    {
      "cell_type": "markdown",
      "source": [
        "# Part 3"
      ],
      "metadata": {
        "id": "6qP-pHZnWU8N"
      }
    },
    {
      "cell_type": "code",
      "source": [
        "# Save graphs\n",
        "dgl.save_graphs(\"graph.dglg\", g)\n",
        "dgl.save_graphs(\"graph.dglh\", h)\n",
        "dgl.save_graphs(\"graphs.dglg\", [g, sg1, sg2, sg3])\n",
        "dgl.save_graphs(\"graphs.dglh\", [h, sh1, sh2, sh3, sh4])\n",
        "dgl.save_graphs(\"graphs.dglh1\", [h, sh11, sh12])\n"
      ],
      "metadata": {
        "id": "E64HD8wXWV-w"
      },
      "execution_count": 76,
      "outputs": []
    },
    {
      "cell_type": "code",
      "source": [
        "# Load graphs\n",
        "(g,), _ = dgl.load_graphs(\"graph.dglg\")\n",
        "(h,), _ = dgl.load_graphs(\"graph.dglh\")\n",
        "\n",
        "print(g)\n",
        "print(h)\n",
        "\n",
        "(g, sg1, sg2, sg3), _ = dgl.load_graphs(\"graphs.dglg\")\n",
        "print(g)\n",
        "print(sg1)\n",
        "print(sg2)\n",
        "print(sg3)\n",
        "\n",
        "(h, sh1, sh2, sh3, sh4), _ = dgl.load_graphs(\"graphs.dglh\")\n",
        "print(h)\n",
        "print(sh1)\n",
        "print(sh2)\n",
        "print(sh3)\n",
        "print(sh4)\n",
        "\n",
        "(h, sh11, sh12), _ = dgl.load_graphs(\"graphs.dglh1\")\n",
        "print(h)\n",
        "print(sh11)\n",
        "print(sh12)"
      ],
      "metadata": {
        "colab": {
          "base_uri": "https://localhost:8080/"
        },
        "id": "SvqTHOcJWYh7",
        "outputId": "ea98094c-57f9-4a83-c2d7-f028e2b1aa59"
      },
      "execution_count": 78,
      "outputs": [
        {
          "output_type": "stream",
          "name": "stdout",
          "text": [
            "Graph(num_nodes=6, num_edges=5,\n",
            "      ndata_schemes={'y': Scheme(shape=(5, 4), dtype=torch.float32), 'x': Scheme(shape=(3,), dtype=torch.float32)}\n",
            "      edata_schemes={'a': Scheme(shape=(4,), dtype=torch.float32)})\n",
            "Graph(num_nodes={'game': 3, 'user': 3},\n",
            "      num_edges={('user', 'follows', 'user'): 3, ('user', 'plays', 'game'): 4},\n",
            "      metagraph=[('user', 'user', 'follows'), ('user', 'game', 'plays')])\n",
            "Graph(num_nodes=6, num_edges=5,\n",
            "      ndata_schemes={'y': Scheme(shape=(5, 4), dtype=torch.float32), 'x': Scheme(shape=(3,), dtype=torch.float32)}\n",
            "      edata_schemes={'a': Scheme(shape=(4,), dtype=torch.float32)})\n",
            "Graph(num_nodes=3, num_edges=2,\n",
            "      ndata_schemes={'_ID': Scheme(shape=(), dtype=torch.int64), 'y': Scheme(shape=(5, 4), dtype=torch.float32), 'x': Scheme(shape=(3,), dtype=torch.float32)}\n",
            "      edata_schemes={'_ID': Scheme(shape=(), dtype=torch.int64), 'a': Scheme(shape=(4,), dtype=torch.float32)})\n",
            "Graph(num_nodes=4, num_edges=3,\n",
            "      ndata_schemes={'_ID': Scheme(shape=(), dtype=torch.int64), 'y': Scheme(shape=(5, 4), dtype=torch.float32), 'x': Scheme(shape=(3,), dtype=torch.float32)}\n",
            "      edata_schemes={'_ID': Scheme(shape=(), dtype=torch.int64), 'a': Scheme(shape=(4,), dtype=torch.float32)})\n",
            "Graph(num_nodes=6, num_edges=5,\n",
            "      ndata_schemes={}\n",
            "      edata_schemes={'count': Scheme(shape=(), dtype=torch.int64)})\n",
            "Graph(num_nodes={'game': 3, 'user': 3},\n",
            "      num_edges={('user', 'follows', 'user'): 3, ('user', 'plays', 'game'): 4},\n",
            "      metagraph=[('user', 'user', 'follows'), ('user', 'game', 'plays')])\n",
            "Graph(num_nodes={'game': 0, 'user': 2},\n",
            "      num_edges={('user', 'follows', 'user'): 2, ('user', 'plays', 'game'): 0},\n",
            "      metagraph=[('user', 'user', 'follows'), ('user', 'game', 'plays')])\n",
            "Graph(num_nodes={'game': 1, 'user': 2},\n",
            "      num_edges={('user', 'follows', 'user'): 2, ('user', 'plays', 'game'): 1},\n",
            "      metagraph=[('user', 'user', 'follows'), ('user', 'game', 'plays')])\n",
            "Graph(num_nodes=3, num_edges=3,\n",
            "      ndata_schemes={}\n",
            "      edata_schemes={})\n",
            "Graph(num_nodes=3, num_edges=3,\n",
            "      ndata_schemes={}\n",
            "      edata_schemes={})\n",
            "Graph(num_nodes={'game': 3, 'user': 3},\n",
            "      num_edges={('user', 'follows', 'user'): 3, ('user', 'plays', 'game'): 4},\n",
            "      metagraph=[('user', 'user', 'follows'), ('user', 'game', 'plays')])\n",
            "Graph(num_nodes=3, num_edges=3,\n",
            "      ndata_schemes={}\n",
            "      edata_schemes={})\n",
            "Graph(num_nodes={'game': 3, 'user': 3},\n",
            "      num_edges={('user', 'plays', 'game'): 4},\n",
            "      metagraph=[('user', 'game', 'plays')])\n"
          ]
        }
      ]
    }
  ],
  "metadata": {
    "kernelspec": {
      "display_name": "gml",
      "language": "python",
      "name": "python3"
    },
    "language_info": {
      "codemirror_mode": {
        "name": "ipython",
        "version": 3
      },
      "file_extension": ".py",
      "mimetype": "text/x-python",
      "name": "python",
      "nbconvert_exporter": "python",
      "pygments_lexer": "ipython3",
      "version": "3.10.9"
    },
    "orig_nbformat": 4,
    "colab": {
      "provenance": []
    }
  },
  "nbformat": 4,
  "nbformat_minor": 0
}